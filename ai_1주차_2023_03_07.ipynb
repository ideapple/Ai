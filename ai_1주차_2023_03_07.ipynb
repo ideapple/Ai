{
  "nbformat": 4,
  "nbformat_minor": 0,
  "metadata": {
    "colab": {
      "provenance": [],
      "authorship_tag": "ABX9TyNhryDvdnoHJIDx9eOBP2na",
      "include_colab_link": true
    },
    "kernelspec": {
      "name": "python3",
      "display_name": "Python 3"
    },
    "language_info": {
      "name": "python"
    }
  },
  "cells": [
    {
      "cell_type": "markdown",
      "metadata": {
        "id": "view-in-github",
        "colab_type": "text"
      },
      "source": [
        "<a href=\"https://colab.research.google.com/github/ideapple/Ai/blob/main/ai_1%EC%A3%BC%EC%B0%A8_2023_03_07.ipynb\" target=\"_parent\"><img src=\"https://colab.research.google.com/assets/colab-badge.svg\" alt=\"Open In Colab\"/></a>"
      ]
    },
    {
      "cell_type": "code",
      "source": [
        "name = input()"
      ],
      "metadata": {
        "colab": {
          "base_uri": "https://localhost:8080/"
        },
        "id": "SuNaDeu8l7L-",
        "outputId": "2d95a395-e0d7-4793-dd0e-056e523b0b49"
      },
      "execution_count": 8,
      "outputs": [
        {
          "name": "stdout",
          "output_type": "stream",
          "text": [
            "jeon\n"
          ]
        }
      ]
    },
    {
      "cell_type": "code",
      "source": [
        "age = int(input())"
      ],
      "metadata": {
        "colab": {
          "base_uri": "https://localhost:8080/"
        },
        "id": "t3q81q2xmc08",
        "outputId": "bcdee19b-6b95-478d-a9ee-3ddf9989158f"
      },
      "execution_count": 12,
      "outputs": [
        {
          "name": "stdout",
          "output_type": "stream",
          "text": [
            "25\n"
          ]
        }
      ]
    },
    {
      "cell_type": "code",
      "source": [
        "print(name)"
      ],
      "metadata": {
        "colab": {
          "base_uri": "https://localhost:8080/"
        },
        "id": "xHw9mEoznLaF",
        "outputId": "9dc066af-c7da-4679-de79-1d7c0b860c14"
      },
      "execution_count": 13,
      "outputs": [
        {
          "output_type": "stream",
          "name": "stdout",
          "text": [
            "jeon\n"
          ]
        }
      ]
    },
    {
      "cell_type": "code",
      "source": [
        "print(age)"
      ],
      "metadata": {
        "colab": {
          "base_uri": "https://localhost:8080/"
        },
        "id": "9oKOBwE5nNBX",
        "outputId": "260b3b8c-b89e-4e78-dce5-8dee008ace95"
      },
      "execution_count": 14,
      "outputs": [
        {
          "output_type": "stream",
          "name": "stdout",
          "text": [
            "25\n"
          ]
        }
      ]
    },
    {
      "cell_type": "code",
      "source": [
        "for x in range(1, 10):\n",
        "    print(\"------- \" + str(x) + \"단 -------\")\n",
        "    for y in range(1, 10):\n",
        "        print(\"구구단 :\",x,\"X\",y,\"=\",x*y, \"입니다.\")"
      ],
      "metadata": {
        "colab": {
          "base_uri": "https://localhost:8080/"
        },
        "id": "LRbiFE9Rnftd",
        "outputId": "0dedb705-c7ef-4b17-cc9e-c7dea63ad9d5"
      },
      "execution_count": 22,
      "outputs": [
        {
          "output_type": "stream",
          "name": "stdout",
          "text": [
            "------- 1단 -------\n",
            "구구단 : 1 X 1 = 1 입니다.\n",
            "구구단 : 1 X 2 = 2 입니다.\n",
            "구구단 : 1 X 3 = 3 입니다.\n",
            "구구단 : 1 X 4 = 4 입니다.\n",
            "구구단 : 1 X 5 = 5 입니다.\n",
            "구구단 : 1 X 6 = 6 입니다.\n",
            "구구단 : 1 X 7 = 7 입니다.\n",
            "구구단 : 1 X 8 = 8 입니다.\n",
            "구구단 : 1 X 9 = 9 입니다.\n",
            "------- 2단 -------\n",
            "구구단 : 2 X 1 = 2 입니다.\n",
            "구구단 : 2 X 2 = 4 입니다.\n",
            "구구단 : 2 X 3 = 6 입니다.\n",
            "구구단 : 2 X 4 = 8 입니다.\n",
            "구구단 : 2 X 5 = 10 입니다.\n",
            "구구단 : 2 X 6 = 12 입니다.\n",
            "구구단 : 2 X 7 = 14 입니다.\n",
            "구구단 : 2 X 8 = 16 입니다.\n",
            "구구단 : 2 X 9 = 18 입니다.\n",
            "------- 3단 -------\n",
            "구구단 : 3 X 1 = 3 입니다.\n",
            "구구단 : 3 X 2 = 6 입니다.\n",
            "구구단 : 3 X 3 = 9 입니다.\n",
            "구구단 : 3 X 4 = 12 입니다.\n",
            "구구단 : 3 X 5 = 15 입니다.\n",
            "구구단 : 3 X 6 = 18 입니다.\n",
            "구구단 : 3 X 7 = 21 입니다.\n",
            "구구단 : 3 X 8 = 24 입니다.\n",
            "구구단 : 3 X 9 = 27 입니다.\n",
            "------- 4단 -------\n",
            "구구단 : 4 X 1 = 4 입니다.\n",
            "구구단 : 4 X 2 = 8 입니다.\n",
            "구구단 : 4 X 3 = 12 입니다.\n",
            "구구단 : 4 X 4 = 16 입니다.\n",
            "구구단 : 4 X 5 = 20 입니다.\n",
            "구구단 : 4 X 6 = 24 입니다.\n",
            "구구단 : 4 X 7 = 28 입니다.\n",
            "구구단 : 4 X 8 = 32 입니다.\n",
            "구구단 : 4 X 9 = 36 입니다.\n",
            "------- 5단 -------\n",
            "구구단 : 5 X 1 = 5 입니다.\n",
            "구구단 : 5 X 2 = 10 입니다.\n",
            "구구단 : 5 X 3 = 15 입니다.\n",
            "구구단 : 5 X 4 = 20 입니다.\n",
            "구구단 : 5 X 5 = 25 입니다.\n",
            "구구단 : 5 X 6 = 30 입니다.\n",
            "구구단 : 5 X 7 = 35 입니다.\n",
            "구구단 : 5 X 8 = 40 입니다.\n",
            "구구단 : 5 X 9 = 45 입니다.\n",
            "------- 6단 -------\n",
            "구구단 : 6 X 1 = 6 입니다.\n",
            "구구단 : 6 X 2 = 12 입니다.\n",
            "구구단 : 6 X 3 = 18 입니다.\n",
            "구구단 : 6 X 4 = 24 입니다.\n",
            "구구단 : 6 X 5 = 30 입니다.\n",
            "구구단 : 6 X 6 = 36 입니다.\n",
            "구구단 : 6 X 7 = 42 입니다.\n",
            "구구단 : 6 X 8 = 48 입니다.\n",
            "구구단 : 6 X 9 = 54 입니다.\n",
            "------- 7단 -------\n",
            "구구단 : 7 X 1 = 7 입니다.\n",
            "구구단 : 7 X 2 = 14 입니다.\n",
            "구구단 : 7 X 3 = 21 입니다.\n",
            "구구단 : 7 X 4 = 28 입니다.\n",
            "구구단 : 7 X 5 = 35 입니다.\n",
            "구구단 : 7 X 6 = 42 입니다.\n",
            "구구단 : 7 X 7 = 49 입니다.\n",
            "구구단 : 7 X 8 = 56 입니다.\n",
            "구구단 : 7 X 9 = 63 입니다.\n",
            "------- 8단 -------\n",
            "구구단 : 8 X 1 = 8 입니다.\n",
            "구구단 : 8 X 2 = 16 입니다.\n",
            "구구단 : 8 X 3 = 24 입니다.\n",
            "구구단 : 8 X 4 = 32 입니다.\n",
            "구구단 : 8 X 5 = 40 입니다.\n",
            "구구단 : 8 X 6 = 48 입니다.\n",
            "구구단 : 8 X 7 = 56 입니다.\n",
            "구구단 : 8 X 8 = 64 입니다.\n",
            "구구단 : 8 X 9 = 72 입니다.\n",
            "------- 9단 -------\n",
            "구구단 : 9 X 1 = 9 입니다.\n",
            "구구단 : 9 X 2 = 18 입니다.\n",
            "구구단 : 9 X 3 = 27 입니다.\n",
            "구구단 : 9 X 4 = 36 입니다.\n",
            "구구단 : 9 X 5 = 45 입니다.\n",
            "구구단 : 9 X 6 = 54 입니다.\n",
            "구구단 : 9 X 7 = 63 입니다.\n",
            "구구단 : 9 X 8 = 72 입니다.\n",
            "구구단 : 9 X 9 = 81 입니다.\n"
          ]
        }
      ]
    },
    {
      "cell_type": "code",
      "source": [
        "exam=[60,80,95,69,90,81,80,69,79,66,70,90,96]\n",
        "\n",
        "for i in range(1, 13):\n",
        "  if (90 <= exam[i]):\n",
        "    print(\"당신의 성적은\", exam[i],\"이므로 점수는 A입니다.\")\n",
        "  if (80 <= exam[i] < 90):\n",
        "    print(\"당신의 성적은\", exam[i],\"이므로 점수는 B입니다.\")\n",
        "  if (70 <= exam[i] < 80):\n",
        "    print(\"당신의 성적은\", exam[i],\"이므로 점수는 C입니다.\")\n",
        "  if (60 <= exam[i] < 70):\n",
        "    print(\"당신의 성적은\", exam[i],\"이므로 점수는 D입니다.\")\n",
        "  if (exam[i] <= 50):\n",
        "    print(\"당신의 성적은\", exam[i],\"이므로 점수는 F입니다.\")"
      ],
      "metadata": {
        "colab": {
          "base_uri": "https://localhost:8080/"
        },
        "id": "Rkrhq_5hp19o",
        "outputId": "7f3e28d4-88f5-41b7-9c3e-f0168f415952"
      },
      "execution_count": 30,
      "outputs": [
        {
          "output_type": "stream",
          "name": "stdout",
          "text": [
            "당신의 성적은 80 이므로 점수는 B입니다.\n",
            "당신의 성적은 95 이므로 점수는 A입니다.\n",
            "당신의 성적은 69 이므로 점수는 D입니다.\n",
            "당신의 성적은 90 이므로 점수는 A입니다.\n",
            "당신의 성적은 81 이므로 점수는 B입니다.\n",
            "당신의 성적은 80 이므로 점수는 B입니다.\n",
            "당신의 성적은 69 이므로 점수는 D입니다.\n",
            "당신의 성적은 79 이므로 점수는 C입니다.\n",
            "당신의 성적은 66 이므로 점수는 D입니다.\n",
            "당신의 성적은 70 이므로 점수는 C입니다.\n",
            "당신의 성적은 90 이므로 점수는 A입니다.\n",
            "당신의 성적은 96 이므로 점수는 A입니다.\n"
          ]
        }
      ]
    },
    {
      "cell_type": "code",
      "source": [
        "#피보나치 수열 문제인 것 같으나 기억이 나지 않음...."
      ],
      "metadata": {
        "id": "0rhzUfkZsSs7"
      },
      "execution_count": 51,
      "outputs": []
    },
    {
      "cell_type": "code",
      "source": [
        "print(\"주문수량을 입력 해주세요. -짜장면 10000원-\")\n",
        "price = int(input())\n",
        "\n",
        "if (1 < price):\n",
        "  print(\"구매가능\")\n",
        "\n",
        "if (price <= 1):\n",
        "  print(\"구매불가, 구매 금액이 10000원 보다 커야 합니다.\")"
      ],
      "metadata": {
        "colab": {
          "base_uri": "https://localhost:8080/"
        },
        "id": "aGVYzPBEutf-",
        "outputId": "d29b70fe-caa1-4b9d-9637-d8ae2003d08e"
      },
      "execution_count": 50,
      "outputs": [
        {
          "output_type": "stream",
          "name": "stdout",
          "text": [
            "주문수량을 입력 해주세요. -짜장면 10000원-\n",
            "1\n",
            "구매불가, 구매 금액이 10000원 보다 커야 합니다.\n"
          ]
        }
      ]
    }
  ]
}